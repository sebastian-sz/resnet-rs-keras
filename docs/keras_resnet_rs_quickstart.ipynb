{
  "nbformat": 4,
  "nbformat_minor": 0,
  "metadata": {
    "colab": {
      "name": "keras-resnet-rs-quickstart.ipynb",
      "provenance": [],
      "collapsed_sections": []
    },
    "kernelspec": {
      "name": "python3",
      "display_name": "Python 3"
    },
    "accelerator": "GPU"
  },
  "cells": [
    {
      "cell_type": "markdown",
      "metadata": {
        "id": "3VM9vlheNYFI"
      },
      "source": [
        "Welcome to quickstart notebook of ResNet-RS Keras package.\n",
        "\n",
        "We will go over some basic concepts, like \n",
        "1. Installation.\n",
        "2. Download data + fine tune.\n",
        "3. Convert to TFLite.\n",
        "4. Convert to ONNX."
      ]
    },
    {
      "cell_type": "markdown",
      "metadata": {
        "id": "WuKTZ85PNpt2"
      },
      "source": [
        "Execute the cell below to check if we are using a GPU:"
      ]
    },
    {
      "cell_type": "code",
      "metadata": {
        "colab": {
          "base_uri": "https://localhost:8080/"
        },
        "id": "VKmWjZ-WNuEy",
        "outputId": "cf32b3fe-e711-47aa-91f0-e43a28ff8ea5"
      },
      "source": [
        "!nvidia-smi"
      ],
      "execution_count": 1,
      "outputs": [
        {
          "output_type": "stream",
          "name": "stdout",
          "text": [
            "Thu Nov 11 10:57:15 2021       \n",
            "+-----------------------------------------------------------------------------+\n",
            "| NVIDIA-SMI 495.44       Driver Version: 460.32.03    CUDA Version: 11.2     |\n",
            "|-------------------------------+----------------------+----------------------+\n",
            "| GPU  Name        Persistence-M| Bus-Id        Disp.A | Volatile Uncorr. ECC |\n",
            "| Fan  Temp  Perf  Pwr:Usage/Cap|         Memory-Usage | GPU-Util  Compute M. |\n",
            "|                               |                      |               MIG M. |\n",
            "|===============================+======================+======================|\n",
            "|   0  Tesla K80           Off  | 00000000:00:04.0 Off |                    0 |\n",
            "| N/A   58C    P8    32W / 149W |      0MiB / 11441MiB |      0%      Default |\n",
            "|                               |                      |                  N/A |\n",
            "+-------------------------------+----------------------+----------------------+\n",
            "                                                                               \n",
            "+-----------------------------------------------------------------------------+\n",
            "| Processes:                                                                  |\n",
            "|  GPU   GI   CI        PID   Type   Process name                  GPU Memory |\n",
            "|        ID   ID                                                   Usage      |\n",
            "|=============================================================================|\n",
            "|  No running processes found                                                 |\n",
            "+-----------------------------------------------------------------------------+\n"
          ]
        }
      ]
    },
    {
      "cell_type": "markdown",
      "metadata": {
        "id": "n9rBVh9Y3mIx"
      },
      "source": [
        "### Installation\n",
        "\n",
        "Run below cell to install the module:"
      ]
    },
    {
      "cell_type": "code",
      "metadata": {
        "id": "bbjnQVXDa9xC",
        "colab": {
          "base_uri": "https://localhost:8080/"
        },
        "outputId": "b588d3da-4fcc-47e5-a38a-05bea73e8c85"
      },
      "source": [
        "!pip install -q git+https://github.com/sebastian-sz/resnet-rs-keras@main"
      ],
      "execution_count": 2,
      "outputs": [
        {
          "output_type": "stream",
          "name": "stdout",
          "text": [
            "  Building wheel for resnet-rs-keras (setup.py) ... \u001b[?25l\u001b[?25hdone\n"
          ]
        }
      ]
    },
    {
      "cell_type": "code",
      "metadata": {
        "id": "BzOrfPlmfXLB",
        "colab": {
          "base_uri": "https://localhost:8080/"
        },
        "outputId": "60a31639-77bf-4930-fcee-682f4a48a788"
      },
      "source": [
        "import os\n",
        "\n",
        "import tensorflow as tf\n",
        "from resnet_rs import ResNetRS50\n",
        "\n",
        "\n",
        "print(tf.__version__)"
      ],
      "execution_count": 3,
      "outputs": [
        {
          "output_type": "stream",
          "name": "stdout",
          "text": [
            "2.7.0\n"
          ]
        }
      ]
    },
    {
      "cell_type": "markdown",
      "metadata": {
        "id": "akdGp68W3kkB"
      },
      "source": [
        "### Download example dataset\n",
        "\n",
        "In this section we are going to download example dataset."
      ]
    },
    {
      "cell_type": "code",
      "metadata": {
        "id": "ifLKYJWw6caH",
        "colab": {
          "base_uri": "https://localhost:8080/"
        },
        "outputId": "15f56cc3-f0a5-47f2-c13e-4c3b997e08a3"
      },
      "source": [
        "!curl https://storage.googleapis.com/download.tensorflow.org/example_images/flower_photos.tgz | tar xz"
      ],
      "execution_count": 4,
      "outputs": [
        {
          "output_type": "stream",
          "name": "stdout",
          "text": [
            "  % Total    % Received % Xferd  Average Speed   Time    Time     Time  Current\n",
            "                                 Dload  Upload   Total   Spent    Left  Speed\n",
            "100  218M  100  218M    0     0  65.0M      0  0:00:03  0:00:03 --:--:-- 65.0M\n"
          ]
        }
      ]
    },
    {
      "cell_type": "markdown",
      "metadata": {
        "id": "HVQ0hBfG7OcN"
      },
      "source": [
        "Remove the License file so it doesn't mess up directory structure:"
      ]
    },
    {
      "cell_type": "code",
      "metadata": {
        "id": "ULjj5wLY68Ud"
      },
      "source": [
        "!rm flower_photos/LICENSE.txt"
      ],
      "execution_count": 5,
      "outputs": []
    },
    {
      "cell_type": "markdown",
      "metadata": {
        "id": "jnraEsH97Zpz"
      },
      "source": [
        "Preview Class names:"
      ]
    },
    {
      "cell_type": "code",
      "metadata": {
        "id": "MpSgfUa47ZAf",
        "colab": {
          "base_uri": "https://localhost:8080/"
        },
        "outputId": "57c9a942-3309-4a0b-8424-3e66cdcee1b9"
      },
      "source": [
        "!ls flower_photos"
      ],
      "execution_count": 6,
      "outputs": [
        {
          "output_type": "stream",
          "name": "stdout",
          "text": [
            "daisy  dandelion  roses  sunflowers  tulips\n"
          ]
        }
      ]
    },
    {
      "cell_type": "markdown",
      "metadata": {
        "id": "aWPITuh-7fwm"
      },
      "source": [
        "### Load the data:"
      ]
    },
    {
      "cell_type": "code",
      "metadata": {
        "id": "p2VDNQOa7itl"
      },
      "source": [
        "DATA_PATH = \"./flower_photos\"\n",
        "BATCH_SIZE = 32\n",
        "TARGET_SIZE = (224, 224)\n",
        "\n",
        "\n",
        "# Preprocess with Imagenet's mean and stddev:\n",
        "def preprocess(image): \n",
        "    image = image / 255.\n",
        "    image -= tf.constant([0.485, 0.456, 0.406], shape=[1, 1, 3], dtype=image.dtype)\n",
        "    image /= tf.constant([0.229, 0.224, 0.225], shape=[1, 1, 3], dtype=image.dtype)\n",
        "    return image\n",
        "\n",
        "\n",
        "def preprocess_data(images, labels):\n",
        "    images = preprocess(images)\n",
        "    return images, labels\n",
        "\n",
        "\n",
        "def augment_data(images, labels):\n",
        "    return tf.image.random_flip_left_right(images), labels"
      ],
      "execution_count": 10,
      "outputs": []
    },
    {
      "cell_type": "code",
      "metadata": {
        "id": "an2pwW5O7ykd",
        "colab": {
          "base_uri": "https://localhost:8080/"
        },
        "outputId": "2fcc5813-98ed-4ec4-8af6-5c33ed14dca0"
      },
      "source": [
        "# Create tf.data.dataset objects:\n",
        "\n",
        "train_dataset = tf.keras.preprocessing.image_dataset_from_directory(\n",
        "    directory=DATA_PATH,\n",
        "    batch_size=BATCH_SIZE,\n",
        "    image_size=TARGET_SIZE,\n",
        "    label_mode=\"categorical\",\n",
        "    seed=1234,\n",
        "    validation_split=0.2,\n",
        "    subset=\"training\"\n",
        ")\n",
        "\n",
        "val_dataset = tf.keras.preprocessing.image_dataset_from_directory(\n",
        "    directory=DATA_PATH,\n",
        "    batch_size=BATCH_SIZE,\n",
        "    image_size=TARGET_SIZE,\n",
        "    label_mode=\"categorical\",\n",
        "    seed=1234,\n",
        "    validation_split=0.2,\n",
        "    subset=\"validation\"\n",
        ")"
      ],
      "execution_count": 11,
      "outputs": [
        {
          "output_type": "stream",
          "name": "stdout",
          "text": [
            "Found 3670 files belonging to 5 classes.\n",
            "Using 2936 files for training.\n",
            "Found 3670 files belonging to 5 classes.\n",
            "Using 734 files for validation.\n"
          ]
        }
      ]
    },
    {
      "cell_type": "code",
      "metadata": {
        "id": "MdYLVRCgOO-Q"
      },
      "source": [
        "# Apply preprocessing and augmentation:\n",
        "\n",
        "AUTOTUNE = tf.data.AUTOTUNE\n",
        "\n",
        "train_dataset = train_dataset.map(preprocess_data, num_parallel_calls=AUTOTUNE).map(augment_data, num_parallel_calls=AUTOTUNE).prefetch(AUTOTUNE)\n",
        "val_dataset = val_dataset.map(preprocess_data, num_parallel_calls=AUTOTUNE).prefetch(AUTOTUNE)"
      ],
      "execution_count": 12,
      "outputs": []
    },
    {
      "cell_type": "code",
      "metadata": {
        "id": "zqUlm1-_8awz",
        "colab": {
          "base_uri": "https://localhost:8080/"
        },
        "outputId": "d58e7e00-2a24-40b4-9526-55edb9a24139"
      },
      "source": [
        "# Sanity check our dataset\n",
        "\n",
        "for image_batch, label_batch in train_dataset.take(1):\n",
        "    print(image_batch.shape)\n",
        "    print(label_batch.shape)"
      ],
      "execution_count": 13,
      "outputs": [
        {
          "output_type": "stream",
          "name": "stdout",
          "text": [
            "(32, 224, 224, 3)\n",
            "(32, 5)\n"
          ]
        }
      ]
    },
    {
      "cell_type": "markdown",
      "metadata": {
        "id": "H7F_Ns_X-4tt"
      },
      "source": [
        "### Train (extract features)\n",
        "\n",
        "Let us fine tune Efficient Net Lite."
      ]
    },
    {
      "cell_type": "code",
      "metadata": {
        "id": "S1ILFlN2_ATx"
      },
      "source": [
        "def build_model(num_classes=5):\n",
        "    base_model = ResNetRS50(\n",
        "        input_shape=(TARGET_SIZE[0], TARGET_SIZE[1], 3),\n",
        "        include_top=False,\n",
        "        pooling=\"avg\",\n",
        "        weights=\"imagenet\"\n",
        "    )\n",
        "\n",
        "    base_model.trainable=False\n",
        "\n",
        "    return tf.keras.Sequential([\n",
        "        base_model,\n",
        "        tf.keras.layers.Dropout(0.2),\n",
        "        tf.keras.layers.Dense(num_classes, activation=\"softmax\")\n",
        "    ])"
      ],
      "execution_count": 14,
      "outputs": []
    },
    {
      "cell_type": "code",
      "metadata": {
        "id": "tUjspUDr_qLj",
        "colab": {
          "base_uri": "https://localhost:8080/"
        },
        "outputId": "eed4b530-570b-4341-b0a7-fcc45cb2157a"
      },
      "source": [
        "model = build_model()\n",
        "model.compile(\n",
        "    optimizer=tf.keras.optimizers.Adam(),\n",
        "    loss=tf.keras.losses.CategoricalCrossentropy(from_logits=False),\n",
        "    metrics=['accuracy']\n",
        ")\n",
        "\n",
        "model.summary()"
      ],
      "execution_count": 15,
      "outputs": [
        {
          "output_type": "stream",
          "name": "stderr",
          "text": [
            "WARNING:absl:Received `imagenet` argument without explicit weights input size. Picking weights trained with biggest available shape: imagenet-i160\n"
          ]
        },
        {
          "output_type": "stream",
          "name": "stdout",
          "text": [
            "Downloading data from https://github.com/sebastian-sz/resnet-rs-keras/releases/download/v1.0/resnet-rs-50-i160_notop.h5\n",
            "135364608/135360144 [==============================] - 1s 0us/step\n",
            "135372800/135360144 [==============================] - 1s 0us/step\n",
            "Model: \"sequential\"\n",
            "_________________________________________________________________\n",
            " Layer (type)                Output Shape              Param #   \n",
            "=================================================================\n",
            " resnet-rs-50 (Functional)   (None, 2048)              33696288  \n",
            "                                                                 \n",
            " dropout (Dropout)           (None, 2048)              0         \n",
            "                                                                 \n",
            " dense (Dense)               (None, 5)                 10245     \n",
            "                                                                 \n",
            "=================================================================\n",
            "Total params: 33,706,533\n",
            "Trainable params: 10,245\n",
            "Non-trainable params: 33,696,288\n",
            "_________________________________________________________________\n"
          ]
        }
      ]
    },
    {
      "cell_type": "code",
      "metadata": {
        "id": "H_eqpJNaAFT1",
        "colab": {
          "base_uri": "https://localhost:8080/"
        },
        "outputId": "8259e6f7-aa4c-4504-fc50-281f4634fe9c"
      },
      "source": [
        "model.fit(\n",
        "    train_dataset,\n",
        "    epochs=5,\n",
        "    validation_data=val_dataset,\n",
        ")"
      ],
      "execution_count": 16,
      "outputs": [
        {
          "output_type": "stream",
          "name": "stdout",
          "text": [
            "Epoch 1/5\n",
            "92/92 [==============================] - 75s 411ms/step - loss: 0.6009 - accuracy: 0.7977 - val_loss: 0.3249 - val_accuracy: 0.9046\n",
            "Epoch 2/5\n",
            "92/92 [==============================] - 33s 350ms/step - loss: 0.2775 - accuracy: 0.9176 - val_loss: 0.2461 - val_accuracy: 0.9251\n",
            "Epoch 3/5\n",
            "92/92 [==============================] - 33s 350ms/step - loss: 0.2080 - accuracy: 0.9353 - val_loss: 0.2179 - val_accuracy: 0.9332\n",
            "Epoch 4/5\n",
            "92/92 [==============================] - 33s 350ms/step - loss: 0.1749 - accuracy: 0.9489 - val_loss: 0.2135 - val_accuracy: 0.9292\n",
            "Epoch 5/5\n",
            "92/92 [==============================] - 33s 350ms/step - loss: 0.1460 - accuracy: 0.9571 - val_loss: 0.1872 - val_accuracy: 0.9387\n"
          ]
        },
        {
          "output_type": "execute_result",
          "data": {
            "text/plain": [
              "<keras.callbacks.History at 0x7f38ca775e50>"
            ]
          },
          "metadata": {},
          "execution_count": 16
        }
      ]
    },
    {
      "cell_type": "markdown",
      "metadata": {
        "id": "7-TNIZDXPTRb"
      },
      "source": [
        "### Convert TFLite\n",
        "\n",
        "We can convert the modified model to Tensorflow Lite:"
      ]
    },
    {
      "cell_type": "code",
      "metadata": {
        "colab": {
          "base_uri": "https://localhost:8080/"
        },
        "id": "vTCv4vS9PSEY",
        "outputId": "1c040b9d-c6a1-4212-dbce-c116707fecab"
      },
      "source": [
        "# Convert\n",
        "converter = tf.lite.TFLiteConverter.from_keras_model(model)\n",
        "tflite_model = converter.convert()\n",
        "\n",
        "# Save\n",
        "with open(\"resnet_rs.tflite\", \"wb\") as file:\n",
        "  file.write(tflite_model)"
      ],
      "execution_count": 18,
      "outputs": [
        {
          "output_type": "stream",
          "name": "stderr",
          "text": [
            "WARNING:absl:Function `_wrapped_model` contains input name(s) resnet-rs-50_input with unsupported characters which will be renamed to resnet_rs_50_input in the SavedModel.\n"
          ]
        },
        {
          "output_type": "stream",
          "name": "stdout",
          "text": [
            "INFO:tensorflow:Assets written to: /tmp/tmpl7ggq3fz/assets\n"
          ]
        },
        {
          "output_type": "stream",
          "name": "stderr",
          "text": [
            "INFO:tensorflow:Assets written to: /tmp/tmpl7ggq3fz/assets\n",
            "WARNING:absl:Buffer deduplication procedure will be skipped when flatbuffer library is not properly loaded\n"
          ]
        }
      ]
    },
    {
      "cell_type": "code",
      "metadata": {
        "colab": {
          "base_uri": "https://localhost:8080/"
        },
        "id": "glOCTAyiQLbH",
        "outputId": "96a5acc7-9d8a-4d9b-a089-cc5704de82c3"
      },
      "source": [
        "!ls *.tflite"
      ],
      "execution_count": 19,
      "outputs": [
        {
          "output_type": "stream",
          "name": "stdout",
          "text": [
            "resnet_rs.tflite\n"
          ]
        }
      ]
    },
    {
      "cell_type": "markdown",
      "metadata": {
        "id": "6avcBcmwP7-H"
      },
      "source": [
        "### Convert onnx\n",
        "\n",
        "We can also convert this model to ONNX via `tf2onnx` package:"
      ]
    },
    {
      "cell_type": "code",
      "metadata": {
        "colab": {
          "base_uri": "https://localhost:8080/",
          "height": 493
        },
        "id": "9xEKhV0_P6Zi",
        "outputId": "ee7b4556-13fc-4026-caf3-fdfed63449aa"
      },
      "source": [
        "!pip install tf2onnx~=1.8.4"
      ],
      "execution_count": 20,
      "outputs": [
        {
          "output_type": "stream",
          "name": "stdout",
          "text": [
            "Collecting tf2onnx~=1.8.4\n",
            "  Downloading tf2onnx-1.8.5-py3-none-any.whl (370 kB)\n",
            "\u001b[?25l\r\u001b[K     |▉                               | 10 kB 27.4 MB/s eta 0:00:01\r\u001b[K     |█▊                              | 20 kB 25.2 MB/s eta 0:00:01\r\u001b[K     |██▋                             | 30 kB 18.3 MB/s eta 0:00:01\r\u001b[K     |███▌                            | 40 kB 15.0 MB/s eta 0:00:01\r\u001b[K     |████▍                           | 51 kB 5.6 MB/s eta 0:00:01\r\u001b[K     |█████▎                          | 61 kB 6.1 MB/s eta 0:00:01\r\u001b[K     |██████▏                         | 71 kB 5.5 MB/s eta 0:00:01\r\u001b[K     |███████                         | 81 kB 6.2 MB/s eta 0:00:01\r\u001b[K     |████████                        | 92 kB 6.1 MB/s eta 0:00:01\r\u001b[K     |████████▉                       | 102 kB 5.4 MB/s eta 0:00:01\r\u001b[K     |█████████▊                      | 112 kB 5.4 MB/s eta 0:00:01\r\u001b[K     |██████████▋                     | 122 kB 5.4 MB/s eta 0:00:01\r\u001b[K     |███████████▌                    | 133 kB 5.4 MB/s eta 0:00:01\r\u001b[K     |████████████▍                   | 143 kB 5.4 MB/s eta 0:00:01\r\u001b[K     |█████████████▎                  | 153 kB 5.4 MB/s eta 0:00:01\r\u001b[K     |██████████████▏                 | 163 kB 5.4 MB/s eta 0:00:01\r\u001b[K     |███████████████                 | 174 kB 5.4 MB/s eta 0:00:01\r\u001b[K     |████████████████                | 184 kB 5.4 MB/s eta 0:00:01\r\u001b[K     |████████████████▉               | 194 kB 5.4 MB/s eta 0:00:01\r\u001b[K     |█████████████████▊              | 204 kB 5.4 MB/s eta 0:00:01\r\u001b[K     |██████████████████▋             | 215 kB 5.4 MB/s eta 0:00:01\r\u001b[K     |███████████████████▌            | 225 kB 5.4 MB/s eta 0:00:01\r\u001b[K     |████████████████████▍           | 235 kB 5.4 MB/s eta 0:00:01\r\u001b[K     |█████████████████████▎          | 245 kB 5.4 MB/s eta 0:00:01\r\u001b[K     |██████████████████████▏         | 256 kB 5.4 MB/s eta 0:00:01\r\u001b[K     |███████████████████████         | 266 kB 5.4 MB/s eta 0:00:01\r\u001b[K     |████████████████████████        | 276 kB 5.4 MB/s eta 0:00:01\r\u001b[K     |████████████████████████▉       | 286 kB 5.4 MB/s eta 0:00:01\r\u001b[K     |█████████████████████████▊      | 296 kB 5.4 MB/s eta 0:00:01\r\u001b[K     |██████████████████████████▋     | 307 kB 5.4 MB/s eta 0:00:01\r\u001b[K     |███████████████████████████▍    | 317 kB 5.4 MB/s eta 0:00:01\r\u001b[K     |████████████████████████████▎   | 327 kB 5.4 MB/s eta 0:00:01\r\u001b[K     |█████████████████████████████▏  | 337 kB 5.4 MB/s eta 0:00:01\r\u001b[K     |██████████████████████████████  | 348 kB 5.4 MB/s eta 0:00:01\r\u001b[K     |███████████████████████████████ | 358 kB 5.4 MB/s eta 0:00:01\r\u001b[K     |███████████████████████████████▉| 368 kB 5.4 MB/s eta 0:00:01\r\u001b[K     |████████████████████████████████| 370 kB 5.4 MB/s \n",
            "\u001b[?25hCollecting flatbuffers~=1.12\n",
            "  Downloading flatbuffers-1.12-py2.py3-none-any.whl (15 kB)\n",
            "Collecting onnx>=1.4.1\n",
            "  Downloading onnx-1.10.2-cp37-cp37m-manylinux_2_12_x86_64.manylinux2010_x86_64.whl (12.7 MB)\n",
            "\u001b[K     |████████████████████████████████| 12.7 MB 88 kB/s \n",
            "\u001b[?25hRequirement already satisfied: numpy>=1.14.1 in /usr/local/lib/python3.7/dist-packages (from tf2onnx~=1.8.4) (1.19.5)\n",
            "Requirement already satisfied: six in /usr/local/lib/python3.7/dist-packages (from tf2onnx~=1.8.4) (1.15.0)\n",
            "Requirement already satisfied: requests in /usr/local/lib/python3.7/dist-packages (from tf2onnx~=1.8.4) (2.23.0)\n",
            "Requirement already satisfied: typing-extensions>=3.6.2.1 in /usr/local/lib/python3.7/dist-packages (from onnx>=1.4.1->tf2onnx~=1.8.4) (3.10.0.2)\n",
            "Requirement already satisfied: protobuf in /usr/local/lib/python3.7/dist-packages (from onnx>=1.4.1->tf2onnx~=1.8.4) (3.17.3)\n",
            "Requirement already satisfied: chardet<4,>=3.0.2 in /usr/local/lib/python3.7/dist-packages (from requests->tf2onnx~=1.8.4) (3.0.4)\n",
            "Requirement already satisfied: certifi>=2017.4.17 in /usr/local/lib/python3.7/dist-packages (from requests->tf2onnx~=1.8.4) (2021.10.8)\n",
            "Requirement already satisfied: urllib3!=1.25.0,!=1.25.1,<1.26,>=1.21.1 in /usr/local/lib/python3.7/dist-packages (from requests->tf2onnx~=1.8.4) (1.24.3)\n",
            "Requirement already satisfied: idna<3,>=2.5 in /usr/local/lib/python3.7/dist-packages (from requests->tf2onnx~=1.8.4) (2.10)\n",
            "Installing collected packages: onnx, flatbuffers, tf2onnx\n",
            "  Attempting uninstall: flatbuffers\n",
            "    Found existing installation: flatbuffers 2.0\n",
            "    Uninstalling flatbuffers-2.0:\n",
            "      Successfully uninstalled flatbuffers-2.0\n",
            "Successfully installed flatbuffers-1.12 onnx-1.10.2 tf2onnx-1.8.5\n"
          ]
        },
        {
          "output_type": "display_data",
          "data": {
            "application/vnd.colab-display-data+json": {
              "pip_warning": {
                "packages": [
                  "flatbuffers"
                ]
              }
            }
          },
          "metadata": {}
        }
      ]
    },
    {
      "cell_type": "code",
      "metadata": {
        "id": "CfW8mm0nQRu7"
      },
      "source": [
        "# Save the model in TF's Saved Model format:"
      ],
      "execution_count": 21,
      "outputs": []
    },
    {
      "cell_type": "code",
      "metadata": {
        "colab": {
          "base_uri": "https://localhost:8080/"
        },
        "id": "MWCgMKjYQUjD",
        "outputId": "c0d5fa44-2115-4d47-c3f4-25affe4edae5"
      },
      "source": [
        "model.save(\"my_saved_model/\")"
      ],
      "execution_count": 22,
      "outputs": [
        {
          "output_type": "stream",
          "name": "stderr",
          "text": [
            "WARNING:absl:Function `_wrapped_model` contains input name(s) resnet-rs-50_input with unsupported characters which will be renamed to resnet_rs_50_input in the SavedModel.\n"
          ]
        },
        {
          "output_type": "stream",
          "name": "stdout",
          "text": [
            "INFO:tensorflow:Assets written to: my_saved_model/assets\n"
          ]
        },
        {
          "output_type": "stream",
          "name": "stderr",
          "text": [
            "INFO:tensorflow:Assets written to: my_saved_model/assets\n",
            "/usr/local/lib/python3.7/dist-packages/keras/engine/functional.py:1410: CustomMaskWarning: Custom mask layers require a config and must override get_config. When loading, the custom mask layer must be passed to the custom_objects argument.\n",
            "  layer_config = serialize_layer_fn(layer)\n",
            "/usr/local/lib/python3.7/dist-packages/keras/saving/saved_model/layer_serialization.py:112: CustomMaskWarning: Custom mask layers require a config and must override get_config. When loading, the custom mask layer must be passed to the custom_objects argument.\n",
            "  return generic_utils.serialize_keras_object(obj)\n"
          ]
        }
      ]
    },
    {
      "cell_type": "code",
      "metadata": {
        "colab": {
          "base_uri": "https://localhost:8080/"
        },
        "id": "i7_mU3xAQmre",
        "outputId": "dac0c0d8-3d82-48ce-97c2-8d6dc44a6cb0"
      },
      "source": [
        "# Convert:\n",
        "!python -m tf2onnx.convert \\\n",
        "  --saved-model my_saved_model/ \\\n",
        "  --output resnet_rs.onnx"
      ],
      "execution_count": 23,
      "outputs": [
        {
          "output_type": "stream",
          "name": "stdout",
          "text": [
            "/usr/lib/python3.7/runpy.py:125: RuntimeWarning: 'tf2onnx.convert' found in sys.modules after import of package 'tf2onnx', but prior to execution of 'tf2onnx.convert'; this may result in unpredictable behaviour\n",
            "  warn(RuntimeWarning(msg))\n",
            "2021-11-11 11:05:38,118 - WARNING - '--tag' not specified for saved_model. Using --tag serve\n",
            "2021-11-11 11:05:53,179 - INFO - Signatures found in model: [serving_default].\n",
            "2021-11-11 11:05:53,179 - WARNING - '--signature_def' not specified, using first signature: serving_default\n",
            "2021-11-11 11:05:53,180 - INFO - Output names: ['dense']\n",
            "WARNING:tensorflow:From /usr/local/lib/python3.7/dist-packages/tf2onnx/tf_loader.py:603: extract_sub_graph (from tensorflow.python.framework.graph_util_impl) is deprecated and will be removed in a future version.\n",
            "Instructions for updating:\n",
            "Use `tf.compat.v1.graph_util.extract_sub_graph`\n",
            "2021-11-11 11:05:59,313 - WARNING - From /usr/local/lib/python3.7/dist-packages/tf2onnx/tf_loader.py:603: extract_sub_graph (from tensorflow.python.framework.graph_util_impl) is deprecated and will be removed in a future version.\n",
            "Instructions for updating:\n",
            "Use `tf.compat.v1.graph_util.extract_sub_graph`\n",
            "2021-11-11 11:06:03,826 - INFO - Using tensorflow=2.7.0, onnx=1.10.2, tf2onnx=1.8.5/50049d\n",
            "2021-11-11 11:06:03,826 - INFO - Using opset <onnx, 9>\n",
            "2021-11-11 11:06:11,061 - INFO - Computed 0 values for constant folding\n",
            "2021-11-11 11:06:33,437 - INFO - Optimizing ONNX model\n",
            "2021-11-11 11:06:38,735 - INFO - After optimization: BatchNormalization -56 (56->0), Cast -32 (32->0), Concat -16 (16->0), Const -282 (464->182), GlobalAveragePool +17 (0->17), Identity -798 (798->0), ReduceMean -17 (17->0), Shape -16 (16->0), Slice -16 (16->0), Squeeze +1 (16->17), Transpose -293 (294->1), Unsqueeze -64 (64->0)\n",
            "2021-11-11 11:06:38,962 - INFO - \n",
            "2021-11-11 11:06:38,962 - INFO - Successfully converted TensorFlow model my_saved_model/ to ONNX\n",
            "2021-11-11 11:06:38,962 - INFO - Model inputs: ['resnet_rs_50_input:0']\n",
            "2021-11-11 11:06:38,963 - INFO - Model outputs: ['dense']\n",
            "2021-11-11 11:06:38,963 - INFO - ONNX model is saved at resnet_rs.onnx\n"
          ]
        }
      ]
    },
    {
      "cell_type": "code",
      "metadata": {
        "colab": {
          "base_uri": "https://localhost:8080/"
        },
        "id": "r3YzKYsgQyE0",
        "outputId": "064dec72-2bc0-416d-acd7-1e2143747419"
      },
      "source": [
        "!ls *.onnx"
      ],
      "execution_count": 24,
      "outputs": [
        {
          "output_type": "stream",
          "name": "stdout",
          "text": [
            "resnet_rs.onnx\n"
          ]
        }
      ]
    }
  ]
}
