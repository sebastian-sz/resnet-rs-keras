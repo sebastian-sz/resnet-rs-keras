{
  "nbformat": 4,
  "nbformat_minor": 0,
  "metadata": {
    "colab": {
      "name": "resnet-rs-original-outputs-logits.ipynb",
      "provenance": [],
      "collapsed_sections": []
    },
    "kernelspec": {
      "display_name": "Python 3",
      "name": "python3"
    },
    "language_info": {
      "name": "python"
    }
  },
  "cells": [
    {
      "cell_type": "code",
      "metadata": {
        "colab": {
          "base_uri": "https://localhost:8080/"
        },
        "id": "x1SCRX4J6kDt",
        "outputId": "dbe457ed-f161-4f4c-a78e-6120cc001f16"
      },
      "source": [
        "!git clone https://github.com/tensorflow/tpu.git"
      ],
      "execution_count": null,
      "outputs": [
        {
          "output_type": "stream",
          "name": "stdout",
          "text": [
            "Cloning into 'tpu'...\n",
            "remote: Enumerating objects: 10287, done.\u001b[K\n",
            "remote: Counting objects: 100% (489/489), done.\u001b[K\n",
            "remote: Compressing objects: 100% (299/299), done.\u001b[K\n",
            "remote: Total 10287 (delta 257), reused 344 (delta 182), pack-reused 9798\u001b[K\n",
            "Receiving objects: 100% (10287/10287), 24.52 MiB | 30.50 MiB/s, done.\n",
            "Resolving deltas: 100% (7295/7295), done.\n"
          ]
        }
      ]
    },
    {
      "cell_type": "code",
      "metadata": {
        "colab": {
          "base_uri": "https://localhost:8080/"
        },
        "id": "Zmxc6lVfwzg-",
        "outputId": "9e3421aa-8918-450e-8835-d47bb56d8712"
      },
      "source": [
        "%cd tpu/models/official/resnet/"
      ],
      "execution_count": null,
      "outputs": [
        {
          "output_type": "stream",
          "name": "stdout",
          "text": [
            "/content/tpu/models/official/resnet\n"
          ]
        }
      ]
    },
    {
      "cell_type": "code",
      "metadata": {
        "id": "QATYPxSubFey"
      },
      "source": [
        "### COPY AND PASTE CONTENT FROM REPO\n",
        "\n",
        "!touch resnet_main_v2.py"
      ],
      "execution_count": null,
      "outputs": []
    },
    {
      "cell_type": "code",
      "metadata": {
        "id": "Y2i3Rhy8ZP_z"
      },
      "source": [
        "import tensorflow as tf\n",
        "import os\n",
        "import numpy as np\n",
        "import subprocess"
      ],
      "execution_count": null,
      "outputs": []
    },
    {
      "cell_type": "code",
      "metadata": {
        "colab": {
          "base_uri": "https://localhost:8080/"
        },
        "id": "EGnRTlcPSMdS",
        "outputId": "c35f9493-a103-4e36-b3da-1c78fffc60ee"
      },
      "source": [
        "# Download image for inference\n",
        "\n",
        "PICTURE = 'panda.jpg'\n",
        "!wget https://upload.wikimedia.org/wikipedia/commons/f/fe/Giant_Panda_in_Beijing_Zoo_1.JPG -O {PICTURE}"
      ],
      "execution_count": null,
      "outputs": [
        {
          "output_type": "stream",
          "name": "stdout",
          "text": [
            "--2021-10-17 06:52:43--  https://upload.wikimedia.org/wikipedia/commons/f/fe/Giant_Panda_in_Beijing_Zoo_1.JPG\n",
            "Resolving upload.wikimedia.org (upload.wikimedia.org)... 208.80.154.240, 2620:0:861:ed1a::2:b\n",
            "Connecting to upload.wikimedia.org (upload.wikimedia.org)|208.80.154.240|:443... connected.\n",
            "HTTP request sent, awaiting response... 200 OK\n",
            "Length: 116068 (113K) [image/jpeg]\n",
            "Saving to: ‘panda.jpg’\n",
            "\n",
            "\rpanda.jpg             0%[                    ]       0  --.-KB/s               \rpanda.jpg           100%[===================>] 113.35K  --.-KB/s    in 0.03s   \n",
            "\n",
            "2021-10-17 06:52:44 (3.39 MB/s) - ‘panda.jpg’ saved [116068/116068]\n",
            "\n"
          ]
        }
      ]
    },
    {
      "cell_type": "code",
      "metadata": {
        "id": "56JSUVmeskVm"
      },
      "source": [
        "MODELS = [\n",
        "    {\"name\": \"resnetrs50_i160\", \"tar_name\": \"resnet-rs-50-i160.tar.gz\", \"config_name\":\"resnetrs50_i160.yaml\"},\n",
        "    {\"name\": \"resnetrs101_i160\", \"tar_name\": \"resnet-rs-101-i160.tar.gz\", \"config_name\":\"resnetrs101_i160.yaml\"},\n",
        "    {\"name\": \"resnetrs101_i192\", \"tar_name\": \"resnet-rs-101-i192.tar.gz\", \"config_name\":\"resnetrs101_i192.yaml\"},\n",
        "    {\"name\": \"resnetrs152_i192\", \"tar_name\": \"resnet-rs-152-i192.tar.gz\", \"config_name\":\"resnetrs152_i192.yaml\"},\n",
        "    {\"name\": \"resnetrs152_i224\", \"tar_name\": \"resnet-rs-152-i224.tar.gz\", \"config_name\":\"resnetrs152_i224.yaml\"},\n",
        "    {\"name\": \"resnetrs350_i320\", \"tar_name\": \"resnet-rs-350-i320.tar.gz\", \"config_name\":\"resnetrs350_i320.yaml\"},\n",
        "    {\"name\": \"resnetrs350_i256\", \"tar_name\": \"resnet-rs-350-i256.tar.gz\", \"config_name\":\"resnetrs350_i256.yaml\"},\n",
        "    {\"name\": \"resnetrs270_i256\", \"tar_name\": \"resnet-rs-270-i256.tar.gz\", \"config_name\":\"resnetrs270_i256.yaml\"},\n",
        "    {\"name\": \"resnetrs152_i256\", \"tar_name\": \"resnet-rs-152-i256.tar.gz\", \"config_name\":\"resnetrs152_i256.yaml\"},\n",
        "    {\"name\": \"resnetrs200_i256\", \"tar_name\": \"resnet-rs-200-i256.tar.gz\", \"config_name\":\"resnetrs200_i256.yaml\"},\n",
        "    {\"name\": \"resnetrs420_i320\", \"tar_name\": \"resnet-rs-420-i320.tar.gz\", \"config_name\":\"resnetrs420_i320.yaml\"},\n",
        "]\n"
      ],
      "execution_count": null,
      "outputs": []
    },
    {
      "cell_type": "code",
      "metadata": {
        "id": "xF026TCftrm3",
        "colab": {
          "base_uri": "https://localhost:8080/"
        },
        "outputId": "a42f8559-9cf3-4a04-9a3a-4e50c1ea60e7"
      },
      "source": [
        "!rm /content/*.npy"
      ],
      "execution_count": null,
      "outputs": [
        {
          "output_type": "stream",
          "name": "stdout",
          "text": [
            "rm: cannot remove '/content/*.npy': No such file or directory\n"
          ]
        }
      ]
    },
    {
      "cell_type": "code",
      "metadata": {
        "id": "6hbS4bcGtzTE",
        "colab": {
          "base_uri": "https://localhost:8080/"
        },
        "outputId": "49c9e35c-3558-47cf-d324-b800d9b4877d"
      },
      "source": [
        "!rm -r resnetrs*"
      ],
      "execution_count": null,
      "outputs": [
        {
          "output_type": "stream",
          "name": "stdout",
          "text": [
            "rm: cannot remove 'resnetrs*': No such file or directory\n"
          ]
        }
      ]
    },
    {
      "cell_type": "code",
      "metadata": {
        "id": "Ab9At8AExVaq",
        "colab": {
          "base_uri": "https://localhost:8080/"
        },
        "outputId": "9d3694c6-aebb-46e1-8efa-f454dec8aa68"
      },
      "source": [
        "for model_params in MODELS:\n",
        "\n",
        "    # Create model_dir\n",
        "    model_name = model_params[\"name\"]\n",
        "    !mkdir $model_name\n",
        "\n",
        "    # Download config file\n",
        "    config_name = model_params[\"config_name\"]\n",
        "    !cd $model_name; wget https://raw.githubusercontent.com/tensorflow/tpu/master/models/official/resnet/resnet_rs/configs/$config_name\n",
        "\n",
        "    # Download weights\n",
        "    tar_name = model_params[\"tar_name\"]\n",
        "    !curl https://storage.googleapis.com/cloud-tpu-checkpoints/resnet-rs/$tar_name | tar xzv -C $model_name\n",
        "    \n",
        "    # Create saved_model dir inside model_dir\n",
        "    export_dir = os.path.join(model_name, \"saved_model\")\n",
        "    !mkdir $export_dir\n",
        "\n",
        "\n",
        "    if \"checkpoint\" not in os.listdir(model_name):\n",
        "        lines = ['model_checkpoint_path: \"model.ckpt\"', 'all_model_checkpoint_paths: \"model.ckpt\"']\n",
        "        with open(f\"{model_name}/checkpoint\", \"w\") as f:\n",
        "            f.writelines(lines)\n",
        "\n",
        "    # Create command for export:\n",
        "    config_path = os.path.join(model_name, config_name)\n",
        "    cmd = f\"\"\"\n",
        "export PYTHONPATH=$PYTHONPATH:/content/tpu/models && python resnet_main_v2.py \\\n",
        "     --tpu=mock \\\n",
        "     --model_dir={model_name} \\\n",
        "     --mode=predict \\\n",
        "     --export_dir={export_dir} \\\n",
        "     --config_file={config_path} \\\n",
        "     --export_moving_average\n",
        " \"\"\"\n",
        "\n",
        "    # Run export    \n",
        "    subprocess.run(cmd, shell=True)\n",
        "    # !export PYTHONPATH=$PYTHONPATH:/content/tpu/models && python resnet_main_v2.py \\\n",
        "    #      --tpu=mock \\\n",
        "    #      --model_dir=resnetrs50_i160 \\\n",
        "    #      --mode=predict \\\n",
        "    #      --export_dir=resnetrs50_i160/saved_model \\\n",
        "    #      --config_file=resnetrs50_i160/resnetrs152_i256.yaml \\\n",
        "    #      --export_moving_average\n",
        "\n",
        "\n",
        "    # Load exported saved model\n",
        "    model_number = os.listdir(export_dir)[0]\n",
        "    saved_model_dir = os.path.join(export_dir, model_number)\n",
        "    loaded = tf.saved_model.load(saved_model_dir)\n",
        "\n",
        "    # Load array for inference\n",
        "    input_tensor = tf.io.read_file(PICTURE)\n",
        "\n",
        "    # Run inference\n",
        "    infer = loaded.signatures[\"serving_default\"]  \n",
        "    out = infer(tf.constant(input_tensor[None,...]))\n",
        "    \n",
        "    logits = out[\"logits\"].numpy()\n",
        "    inputs = out[\"features\"].numpy()\n",
        "    \n",
        "    # Save output arrays\n",
        "    output_name = f\"/content/{model_name}_original_logits.npy\"\n",
        "    np.save(output_name, logits)\n"
      ],
      "execution_count": null,
      "outputs": [
        {
          "output_type": "stream",
          "name": "stdout",
          "text": [
            "--2021-10-17 07:02:07--  https://raw.githubusercontent.com/tensorflow/tpu/master/models/official/resnet/resnet_rs/configs/resnetrs50_i160.yaml\n",
            "Resolving raw.githubusercontent.com (raw.githubusercontent.com)... 185.199.108.133, 185.199.109.133, 185.199.110.133, ...\n",
            "Connecting to raw.githubusercontent.com (raw.githubusercontent.com)|185.199.108.133|:443... connected.\n",
            "HTTP request sent, awaiting response... 200 OK\n",
            "Length: 580 [text/plain]\n",
            "Saving to: ‘resnetrs50_i160.yaml’\n",
            "\n",
            "\rresnetrs50_i160.yam   0%[                    ]       0  --.-KB/s               \rresnetrs50_i160.yam 100%[===================>]     580  --.-KB/s    in 0s      \n",
            "\n",
            "2021-10-17 07:02:07 (31.2 MB/s) - ‘resnetrs50_i160.yaml’ saved [580/580]\n",
            "\n",
            "  % Total    % Received % Xferd  Average Speed   Time    Time     Time  Current\n",
            "                                 Dload  Upload   Total   Spent    Left  Speed\n",
            "  0     0    0     0    0     0      0      0 --:--:-- --:--:-- --:--:--     0checkpoint\n",
            "model.ckpt.data-00000-of-00001\n",
            " 93  381M   93  357M    0     0  55.7M      0  0:00:06  0:00:06 --:--:-- 55.9Mmodel.ckpt.index\n",
            "model.ckpt.meta\n",
            "100  381M  100  381M    0     0  54.0M      0  0:00:07  0:00:07 --:--:-- 53.7M\n",
            "--2021-10-17 07:02:27--  https://raw.githubusercontent.com/tensorflow/tpu/master/models/official/resnet/resnet_rs/configs/resnetrs101_i160.yaml\n",
            "Resolving raw.githubusercontent.com (raw.githubusercontent.com)... 185.199.108.133, 185.199.109.133, 185.199.110.133, ...\n",
            "Connecting to raw.githubusercontent.com (raw.githubusercontent.com)|185.199.108.133|:443... connected.\n",
            "HTTP request sent, awaiting response... 200 OK\n",
            "Length: 581 [text/plain]\n",
            "Saving to: ‘resnetrs101_i160.yaml’\n",
            "\n",
            "resnetrs101_i160.ya 100%[===================>]     581  --.-KB/s    in 0s      \n",
            "\n",
            "2021-10-17 07:02:27 (30.3 MB/s) - ‘resnetrs101_i160.yaml’ saved [581/581]\n",
            "\n",
            "  % Total    % Received % Xferd  Average Speed   Time    Time     Time  Current\n",
            "                                 Dload  Upload   Total   Spent    Left  Speed\n",
            "  0     0    0     0    0     0      0      0 --:--:-- --:--:-- --:--:--     0checkpoint\n",
            "model.ckpt.data-00000-of-00001\n",
            " 96  682M   96  656M    0     0  57.0M      0  0:00:11  0:00:11 --:--:-- 56.1Mmodel.ckpt.index\n",
            "model.ckpt.meta\n",
            "100  682M  100  682M    0     0  56.3M      0  0:00:12  0:00:12 --:--:-- 53.6M\n",
            "--2021-10-17 07:02:57--  https://raw.githubusercontent.com/tensorflow/tpu/master/models/official/resnet/resnet_rs/configs/resnetrs101_i192.yaml\n",
            "Resolving raw.githubusercontent.com (raw.githubusercontent.com)... 185.199.108.133, 185.199.109.133, 185.199.110.133, ...\n",
            "Connecting to raw.githubusercontent.com (raw.githubusercontent.com)|185.199.108.133|:443... connected.\n",
            "HTTP request sent, awaiting response... 200 OK\n",
            "Length: 581 [text/plain]\n",
            "Saving to: ‘resnetrs101_i192.yaml’\n",
            "\n",
            "resnetrs101_i192.ya 100%[===================>]     581  --.-KB/s    in 0s      \n",
            "\n",
            "2021-10-17 07:02:57 (34.1 MB/s) - ‘resnetrs101_i192.yaml’ saved [581/581]\n",
            "\n",
            "  % Total    % Received % Xferd  Average Speed   Time    Time     Time  Current\n",
            "                                 Dload  Upload   Total   Spent    Left  Speed\n",
            "  0     0    0     0    0     0      0      0 --:--:-- --:--:-- --:--:--     0checkpoint\n",
            "model.ckpt.data-00000-of-00001\n",
            " 97  682M   97  664M    0     0  53.7M      0  0:00:12  0:00:12 --:--:-- 52.3Mmodel.ckpt.index\n",
            "model.ckpt.meta\n",
            "100  682M  100  682M    0     0  53.2M      0  0:00:12  0:00:12 --:--:-- 49.0M\n",
            "--2021-10-17 07:03:28--  https://raw.githubusercontent.com/tensorflow/tpu/master/models/official/resnet/resnet_rs/configs/resnetrs152_i192.yaml\n",
            "Resolving raw.githubusercontent.com (raw.githubusercontent.com)... 185.199.108.133, 185.199.109.133, 185.199.110.133, ...\n",
            "Connecting to raw.githubusercontent.com (raw.githubusercontent.com)|185.199.108.133|:443... connected.\n",
            "HTTP request sent, awaiting response... 200 OK\n",
            "Length: 581 [text/plain]\n",
            "Saving to: ‘resnetrs152_i192.yaml’\n",
            "\n",
            "resnetrs152_i192.ya 100%[===================>]     581  --.-KB/s    in 0s      \n",
            "\n",
            "2021-10-17 07:03:28 (25.3 MB/s) - ‘resnetrs152_i192.yaml’ saved [581/581]\n",
            "\n",
            "  % Total    % Received % Xferd  Average Speed   Time    Time     Time  Current\n",
            "                                 Dload  Upload   Total   Spent    Left  Speed\n",
            "  0     0    0     0    0     0      0      0 --:--:-- --:--:-- --:--:--     0checkpoint\n",
            "model.ckpt.data-00000-of-00001\n",
            " 94  930M   94  878M    0     0  50.7M      0  0:00:18  0:00:17  0:00:01 49.0Mmodel.ckpt.index\n",
            "model.ckpt.meta\n",
            "100  930M  100  930M    0     0  50.1M      0  0:00:18  0:00:18 --:--:-- 52.0M\n",
            "--2021-10-17 07:04:13--  https://raw.githubusercontent.com/tensorflow/tpu/master/models/official/resnet/resnet_rs/configs/resnetrs152_i224.yaml\n",
            "Resolving raw.githubusercontent.com (raw.githubusercontent.com)... 185.199.108.133, 185.199.109.133, 185.199.110.133, ...\n",
            "Connecting to raw.githubusercontent.com (raw.githubusercontent.com)|185.199.108.133|:443... connected.\n",
            "HTTP request sent, awaiting response... 200 OK\n",
            "Length: 581 [text/plain]\n",
            "Saving to: ‘resnetrs152_i224.yaml’\n",
            "\n",
            "resnetrs152_i224.ya 100%[===================>]     581  --.-KB/s    in 0s      \n",
            "\n",
            "2021-10-17 07:04:13 (39.4 MB/s) - ‘resnetrs152_i224.yaml’ saved [581/581]\n",
            "\n",
            "  % Total    % Received % Xferd  Average Speed   Time    Time     Time  Current\n",
            "                                 Dload  Upload   Total   Spent    Left  Speed\n",
            "  0     0    0     0    0     0      0      0 --:--:-- --:--:-- --:--:--     0checkpoint\n",
            "model.ckpt.data-00000-of-00001\n",
            " 96  930M   96  893M    0     0  49.7M      0  0:00:18  0:00:17  0:00:01 47.8Mmodel.ckpt.index\n",
            "model.ckpt.meta\n",
            "100  930M  100  930M    0     0  49.0M      0  0:00:18  0:00:18 --:--:-- 47.0M\n",
            "--2021-10-17 07:04:58--  https://raw.githubusercontent.com/tensorflow/tpu/master/models/official/resnet/resnet_rs/configs/resnetrs350_i320.yaml\n",
            "Resolving raw.githubusercontent.com (raw.githubusercontent.com)... 185.199.108.133, 185.199.109.133, 185.199.110.133, ...\n",
            "Connecting to raw.githubusercontent.com (raw.githubusercontent.com)|185.199.108.133|:443... connected.\n",
            "HTTP request sent, awaiting response... 200 OK\n",
            "Length: 579 [text/plain]\n",
            "Saving to: ‘resnetrs350_i320.yaml’\n",
            "\n",
            "resnetrs350_i320.ya 100%[===================>]     579  --.-KB/s    in 0s      \n",
            "\n",
            "2021-10-17 07:04:58 (22.9 MB/s) - ‘resnetrs350_i320.yaml’ saved [579/579]\n",
            "\n",
            "  % Total    % Received % Xferd  Average Speed   Time    Time     Time  Current\n",
            "                                 Dload  Upload   Total   Spent    Left  Speed\n",
            "  0     0    0     0    0     0      0      0 --:--:-- --:--:-- --:--:--     0model.ckpt.data-00000-of-00001\n",
            " 97 1777M   97 1734M    0     0  55.9M      0  0:00:31  0:00:31 --:--:-- 55.2Mmodel.ckpt.index\n",
            "model.ckpt.meta\n",
            "100 1777M  100 1777M    0     0  52.4M      0  0:00:33  0:00:33 --:--:-- 31.9M\n",
            "--2021-10-17 07:06:27--  https://raw.githubusercontent.com/tensorflow/tpu/master/models/official/resnet/resnet_rs/configs/resnetrs350_i256.yaml\n",
            "Resolving raw.githubusercontent.com (raw.githubusercontent.com)... 185.199.111.133, 185.199.110.133, 185.199.108.133, ...\n",
            "Connecting to raw.githubusercontent.com (raw.githubusercontent.com)|185.199.111.133|:443... connected.\n",
            "HTTP request sent, awaiting response... 200 OK\n",
            "Length: 580 [text/plain]\n",
            "Saving to: ‘resnetrs350_i256.yaml’\n",
            "\n",
            "resnetrs350_i256.ya 100%[===================>]     580  --.-KB/s    in 0s      \n",
            "\n",
            "2021-10-17 07:06:27 (17.1 MB/s) - ‘resnetrs350_i256.yaml’ saved [580/580]\n",
            "\n",
            "  % Total    % Received % Xferd  Average Speed   Time    Time     Time  Current\n",
            "                                 Dload  Upload   Total   Spent    Left  Speed\n",
            "  0     0    0     0    0     0      0      0 --:--:-- --:--:-- --:--:--     0model.ckpt.data-00000-of-00001\n",
            " 96 1777M   96 1721M    0     0  56.3M      0  0:00:31  0:00:30  0:00:01 55.0Mmodel.ckpt.index\n",
            "model.ckpt.meta\n",
            "100 1777M  100 1777M    0     0  52.9M      0  0:00:33  0:00:33 --:--:-- 25.9M\n",
            "--2021-10-17 07:07:55--  https://raw.githubusercontent.com/tensorflow/tpu/master/models/official/resnet/resnet_rs/configs/resnetrs270_i256.yaml\n",
            "Resolving raw.githubusercontent.com (raw.githubusercontent.com)... 185.199.108.133, 185.199.109.133, 185.199.110.133, ...\n",
            "Connecting to raw.githubusercontent.com (raw.githubusercontent.com)|185.199.108.133|:443... connected.\n",
            "HTTP request sent, awaiting response... 200 OK\n",
            "Length: 580 [text/plain]\n",
            "Saving to: ‘resnetrs270_i256.yaml’\n",
            "\n",
            "resnetrs270_i256.ya 100%[===================>]     580  --.-KB/s    in 0s      \n",
            "\n",
            "2021-10-17 07:07:55 (22.4 MB/s) - ‘resnetrs270_i256.yaml’ saved [580/580]\n",
            "\n",
            "  % Total    % Received % Xferd  Average Speed   Time    Time     Time  Current\n",
            "                                 Dload  Upload   Total   Spent    Left  Speed\n",
            "  0     0    0     0    0     0      0      0 --:--:-- --:--:-- --:--:--     0model.ckpt.data-00000-of-00001\n",
            " 97 1404M   97 1363M    0     0  55.8M      0  0:00:25  0:00:24  0:00:01 52.9Mmodel.ckpt.index\n",
            "model.ckpt.meta\n",
            "100 1404M  100 1404M    0     0  53.5M      0  0:00:26  0:00:26 --:--:-- 40.5M\n",
            "--2021-10-17 07:09:09--  https://raw.githubusercontent.com/tensorflow/tpu/master/models/official/resnet/resnet_rs/configs/resnetrs152_i256.yaml\n",
            "Resolving raw.githubusercontent.com (raw.githubusercontent.com)... 185.199.108.133, 185.199.109.133, 185.199.110.133, ...\n",
            "Connecting to raw.githubusercontent.com (raw.githubusercontent.com)|185.199.108.133|:443... connected.\n",
            "HTTP request sent, awaiting response... 200 OK\n",
            "Length: 581 [text/plain]\n",
            "Saving to: ‘resnetrs152_i256.yaml’\n",
            "\n",
            "resnetrs152_i256.ya 100%[===================>]     581  --.-KB/s    in 0s      \n",
            "\n",
            "2021-10-17 07:09:09 (19.5 MB/s) - ‘resnetrs152_i256.yaml’ saved [581/581]\n",
            "\n",
            "  % Total    % Received % Xferd  Average Speed   Time    Time     Time  Current\n",
            "                                 Dload  Upload   Total   Spent    Left  Speed\n",
            "  0     0    0     0    0     0      0      0 --:--:-- --:--:-- --:--:--     0model.ckpt.data-00000-of-00001\n",
            " 95  930M   95  888M    0     0  55.9M      0  0:00:16  0:00:15  0:00:01 56.9Mmodel.ckpt.index\n",
            "model.ckpt.meta\n",
            "100  930M  100  930M    0     0  54.8M      0  0:00:16  0:00:16 --:--:-- 52.3M\n",
            "--2021-10-17 07:09:54--  https://raw.githubusercontent.com/tensorflow/tpu/master/models/official/resnet/resnet_rs/configs/resnetrs200_i256.yaml\n",
            "Resolving raw.githubusercontent.com (raw.githubusercontent.com)... 185.199.108.133, 185.199.109.133, 185.199.110.133, ...\n",
            "Connecting to raw.githubusercontent.com (raw.githubusercontent.com)|185.199.108.133|:443... connected.\n",
            "HTTP request sent, awaiting response... 200 OK\n",
            "Length: 580 [text/plain]\n",
            "Saving to: ‘resnetrs200_i256.yaml’\n",
            "\n",
            "resnetrs200_i256.ya 100%[===================>]     580  --.-KB/s    in 0s      \n",
            "\n",
            "2021-10-17 07:09:54 (38.9 MB/s) - ‘resnetrs200_i256.yaml’ saved [580/580]\n",
            "\n",
            "  % Total    % Received % Xferd  Average Speed   Time    Time     Time  Current\n",
            "                                 Dload  Upload   Total   Spent    Left  Speed\n",
            "  0     0    0     0    0     0      0      0 --:--:-- --:--:-- --:--:--     0model.ckpt.data-00000-of-00001\n",
            " 96 1002M   96  964M    0     0  56.7M      0  0:00:17  0:00:16  0:00:01 56.5Mmodel.ckpt.index\n",
            "model.ckpt.meta\n",
            "100 1002M  100 1002M    0     0  54.7M      0  0:00:18  0:00:18 --:--:-- 47.6M\n",
            "--2021-10-17 07:10:47--  https://raw.githubusercontent.com/tensorflow/tpu/master/models/official/resnet/resnet_rs/configs/resnetrs420_i320.yaml\n",
            "Resolving raw.githubusercontent.com (raw.githubusercontent.com)... 185.199.108.133, 185.199.109.133, 185.199.110.133, ...\n",
            "Connecting to raw.githubusercontent.com (raw.githubusercontent.com)|185.199.108.133|:443... connected.\n",
            "HTTP request sent, awaiting response... 200 OK\n",
            "Length: 579 [text/plain]\n",
            "Saving to: ‘resnetrs420_i320.yaml’\n",
            "\n",
            "resnetrs420_i320.ya 100%[===================>]     579  --.-KB/s    in 0s      \n",
            "\n",
            "2021-10-17 07:10:47 (12.6 MB/s) - ‘resnetrs420_i320.yaml’ saved [579/579]\n",
            "\n",
            "  % Total    % Received % Xferd  Average Speed   Time    Time     Time  Current\n",
            "                                 Dload  Upload   Total   Spent    Left  Speed\n",
            "  0     0    0     0    0     0      0      0 --:--:-- --:--:-- --:--:--     0model.ckpt.data-00000-of-00001\n",
            " 96 2084M   96 2013M    0     0  48.7M      0  0:00:42  0:00:41  0:00:01 55.7Mmodel.ckpt.index\n",
            "model.ckpt.meta\n",
            "100 2084M  100 2084M    0     0  46.2M      0  0:00:45  0:00:45 --:--:-- 25.6M\n"
          ]
        }
      ]
    },
    {
      "cell_type": "code",
      "metadata": {
        "colab": {
          "base_uri": "https://localhost:8080/"
        },
        "id": "y2jtyk9Y1Umd",
        "outputId": "99848ace-23ca-474d-f518-0e1daa2d4834"
      },
      "source": [
        "%cd /content/"
      ],
      "execution_count": null,
      "outputs": [
        {
          "output_type": "stream",
          "name": "stdout",
          "text": [
            "/content\n"
          ]
        }
      ]
    },
    {
      "cell_type": "code",
      "metadata": {
        "colab": {
          "base_uri": "https://localhost:8080/"
        },
        "id": "lovlGqaf1bhV",
        "outputId": "c0daf8da-dffc-4914-8d42-cc4fd9fed2a2"
      },
      "source": [
        "!ls *.npy | wc -l"
      ],
      "execution_count": null,
      "outputs": [
        {
          "output_type": "stream",
          "name": "stdout",
          "text": [
            "11\n"
          ]
        }
      ]
    },
    {
      "cell_type": "code",
      "metadata": {
        "id": "Q17FaP6Zt573",
        "colab": {
          "base_uri": "https://localhost:8080/"
        },
        "outputId": "f92cdb3f-af5d-42fd-d2cc-c53ad1505bc6"
      },
      "source": [
        "!zip -r resnet-rs-original-outputs-ema.zip *.npy"
      ],
      "execution_count": null,
      "outputs": [
        {
          "output_type": "stream",
          "name": "stdout",
          "text": [
            "  adding: resnetrs101_i160_original_logits.npy (deflated 7%)\n",
            "  adding: resnetrs101_i192_original_logits.npy (deflated 7%)\n",
            "  adding: resnetrs152_i192_original_logits.npy (deflated 7%)\n",
            "  adding: resnetrs152_i224_original_logits.npy (deflated 7%)\n",
            "  adding: resnetrs152_i256_original_logits.npy (deflated 7%)\n",
            "  adding: resnetrs200_i256_original_logits.npy (deflated 7%)\n",
            "  adding: resnetrs270_i256_original_logits.npy (deflated 7%)\n",
            "  adding: resnetrs350_i256_original_logits.npy (deflated 7%)\n",
            "  adding: resnetrs350_i320_original_logits.npy (deflated 7%)\n",
            "  adding: resnetrs420_i320_original_logits.npy (deflated 7%)\n",
            "  adding: resnetrs50_i160_original_logits.npy (deflated 7%)\n"
          ]
        }
      ]
    },
    {
      "cell_type": "code",
      "metadata": {
        "id": "-lZbCggk1Z6P"
      },
      "source": [
        "from google.colab import files"
      ],
      "execution_count": null,
      "outputs": []
    },
    {
      "cell_type": "code",
      "metadata": {
        "colab": {
          "base_uri": "https://localhost:8080/",
          "height": 17
        },
        "id": "li61BaZF1f-n",
        "outputId": "16fd1794-3e60-4906-8c21-951e90f8dcbd"
      },
      "source": [
        "files.download(\"resnet-rs-original-outputs-ema.zip\")"
      ],
      "execution_count": null,
      "outputs": [
        {
          "output_type": "display_data",
          "data": {
            "application/javascript": [
              "\n",
              "    async function download(id, filename, size) {\n",
              "      if (!google.colab.kernel.accessAllowed) {\n",
              "        return;\n",
              "      }\n",
              "      const div = document.createElement('div');\n",
              "      const label = document.createElement('label');\n",
              "      label.textContent = `Downloading \"${filename}\": `;\n",
              "      div.appendChild(label);\n",
              "      const progress = document.createElement('progress');\n",
              "      progress.max = size;\n",
              "      div.appendChild(progress);\n",
              "      document.body.appendChild(div);\n",
              "\n",
              "      const buffers = [];\n",
              "      let downloaded = 0;\n",
              "\n",
              "      const channel = await google.colab.kernel.comms.open(id);\n",
              "      // Send a message to notify the kernel that we're ready.\n",
              "      channel.send({})\n",
              "\n",
              "      for await (const message of channel.messages) {\n",
              "        // Send a message to notify the kernel that we're ready.\n",
              "        channel.send({})\n",
              "        if (message.buffers) {\n",
              "          for (const buffer of message.buffers) {\n",
              "            buffers.push(buffer);\n",
              "            downloaded += buffer.byteLength;\n",
              "            progress.value = downloaded;\n",
              "          }\n",
              "        }\n",
              "      }\n",
              "      const blob = new Blob(buffers, {type: 'application/binary'});\n",
              "      const a = document.createElement('a');\n",
              "      a.href = window.URL.createObjectURL(blob);\n",
              "      a.download = filename;\n",
              "      div.appendChild(a);\n",
              "      a.click();\n",
              "      div.remove();\n",
              "    }\n",
              "  "
            ],
            "text/plain": [
              "<IPython.core.display.Javascript object>"
            ]
          },
          "metadata": {}
        },
        {
          "output_type": "display_data",
          "data": {
            "application/javascript": [
              "download(\"download_0b72c0f4-3f9c-4d04-85e0-6b70da13109a\", \"resnet-rs-original-outputs-ema.zip\", 44357)"
            ],
            "text/plain": [
              "<IPython.core.display.Javascript object>"
            ]
          },
          "metadata": {}
        }
      ]
    }
  ]
}
